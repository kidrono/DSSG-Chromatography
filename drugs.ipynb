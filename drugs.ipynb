{
 "cells": [
  {
   "cell_type": "code",
   "execution_count": 1,
   "metadata": {
    "collapsed": true
   },
   "outputs": [],
   "source": [
    "import pandas as pd\n",
    "import matplotlib.pyplot as plt\n",
    "from glob import glob\n",
    "from scipy.signal import argrelextrema\n",
    "import numpy as np\n",
    "from sklearn import cluster\n",
    "import seaborn; seaborn.set()"
   ]
  },
  {
   "cell_type": "code",
   "execution_count": 2,
   "outputs": [],
   "source": [
    "def find_peaks(sample_path, plot=False, threshold_factor=4):\n",
    "    \"\"\"\n",
    "    finding the peaks of chromatography\n",
    "    :param sample_path: full path of the tic front file to analyze\n",
    "    :param plot: boolean - True if you want to plot the graph with the peaks\n",
    "    :param threshold_factor: larger threshold factor will cause to function to be more sensitive to local peaks\n",
    "    :return: filtered_iloc_max - list of the indexes of the peaks, df1 - the dataframe of the chromatography.\n",
    "    \"\"\"\n",
    "    df1 = pd.read_csv(sample_path, names=['time', 'value']).iloc[1:]\n",
    "    ilocs_max = argrelextrema(df1.value.values, np.greater_equal, order=10)[0]\n",
    "    if len(ilocs_max) > 0:\n",
    "        if ilocs_max[0] == 0:\n",
    "            ilocs_max = ilocs_max[1:]\n",
    "    iloc_max_list = list(ilocs_max)\n",
    "    df_median = df1['value'][ilocs_max].median()\n",
    "    max_val = df1['value'][ilocs_max].max()\n",
    "    threshold_factor = max_val ** (1 / threshold_factor) / 2\n",
    "    filtered_iloc_max = list(filter(lambda x: df1['value'][x] > df_median * threshold_factor, iloc_max_list))\n",
    "    # plot the chromatography with the peaks\n",
    "    if plot:\n",
    "        df1.value.plot(figsize=(20,8), alpha=.3)\n",
    "        df1.iloc[filtered_iloc_max].value.plot(style='.', lw=10, color='red')\n",
    "        title_name = sample_path.split('/')\n",
    "        plt.title(title_name[2] + \"_\" + title_name[3])\n",
    "    return filtered_iloc_max, df1"
   ],
   "metadata": {
    "collapsed": false,
    "pycharm": {
     "name": "#%%\n"
    }
   }
  },
  {
   "cell_type": "code",
   "execution_count": 3,
   "outputs": [],
   "source": [
    "# creating a dataframe of all the samples of the Drug - auto method\n",
    "\n",
    "methods_dict = pd.read_csv(\"df_dic.csv\")\n",
    "methods_dict.drop(methods_dict.columns[0], axis=1, inplace=True)\n",
    "drug_auto_df = pd.DataFrame()\n",
    "drug_auto_df[\"sample\"] = methods_dict[\"DRUG-AUTO.M\"]\n",
    "num_of_peaks = []\n",
    "peak_locations = []\n",
    "peak_values = []\n",
    "sample_list = drug_auto_df['sample'].to_list()\n",
    "samples = 0"
   ],
   "metadata": {
    "collapsed": false,
    "pycharm": {
     "name": "#%%\n"
    }
   }
  },
  {
   "cell_type": "code",
   "execution_count": 4,
   "outputs": [],
   "source": [
    "for sample in sample_list:\n",
    "    tic_front_path = sample[1:] + 'tic_front.csv'\n",
    "    peaks, df = find_peaks(tic_front_path)\n",
    "    num_of_peaks.append(len(peaks))\n",
    "    peak_locations.append(peaks)\n",
    "    peak_values.append(df['value'][peaks].values)\n",
    "    samples += 1"
   ],
   "metadata": {
    "collapsed": false,
    "pycharm": {
     "name": "#%%\n"
    }
   }
  },
  {
   "cell_type": "code",
   "execution_count": 5,
   "outputs": [],
   "source": [
    "drug_auto_df[\"num_of_peaks\"] = num_of_peaks\n",
    "peak1_index = []\n",
    "peak1_value = []\n",
    "peak2_index = []\n",
    "peak2_value = []\n",
    "peak3_index = []\n",
    "peak3_value = []\n",
    "peak4_index = []\n",
    "peak4_value = []\n",
    "peak5_index = []\n",
    "peak5_value = []\n",
    "peak6_index = []\n",
    "peak6_value = []\n",
    "new_columns = [(peak1_index, peak1_value), (peak2_index, peak2_value), (peak3_index, peak3_value), (peak4_index, peak4_value), (peak5_index, peak5_value), (peak6_index, peak6_value)]\n",
    "\n",
    "\n",
    "for i in range(6):\n",
    "    # print(new_columns[i][0])\n",
    "    for j in range(samples):\n",
    "        if len(peak_locations[j]) > i:\n",
    "            new_columns[i][0].append(peak_locations[j][i])\n",
    "        else:\n",
    "            new_columns[i][0].append(-1)\n",
    "        if len(peak_values[j]) > i:\n",
    "            new_columns[i][1].append(peak_values[j][i])\n",
    "        else:\n",
    "            new_columns[i][1].append(-1)\n"
   ],
   "metadata": {
    "collapsed": false,
    "pycharm": {
     "name": "#%%\n"
    }
   }
  },
  {
   "cell_type": "code",
   "execution_count": 6,
   "outputs": [],
   "source": [
    "for i in range(6):\n",
    "    name = \"peak_\" + str(i+1) + \"_index\"\n",
    "    drug_auto_df[name] = new_columns[i][0]\n",
    "    name = \"peak_\" + str(i+1) + \"_value\"\n",
    "    drug_auto_df[name] = new_columns[i][1]\n",
    "\n",
    "# drug_auto_df.to_csv(\"drug_auto_df_times.csv\")\n"
   ],
   "metadata": {
    "collapsed": false,
    "pycharm": {
     "name": "#%%\n"
    }
   }
  },
  {
   "cell_type": "code",
   "execution_count": 7,
   "outputs": [],
   "source": [
    "one_df = pd.DataFrame()\n",
    "two_df = pd.DataFrame()\n",
    "three_df = pd.DataFrame()\n",
    "four_df = pd.DataFrame()\n",
    "five_df = pd.DataFrame()\n",
    "dfs = [one_df, two_df, three_df, four_df, five_df]\n",
    "\n",
    "for i in range(5):\n",
    "    dfs[i] = drug_auto_df[drug_auto_df['num_of_peaks'] == i + 1]\n",
    "    dfs[i] = dfs[i].drop([col for col in dfs[i].columns if dfs[i][col].eq(-1).any()], axis=1)\n",
    "    dfs[i] = dfs[i].loc[:, dfs[i].columns != 'num_of_peaks']\n",
    "\n",
    "\n",
    "# for i in range(len(dfs)):\n",
    "#     name = 'drug_auto_' + str(i+1) + '_peaks.csv'\n",
    "#     dfs[i].to_csv(name)\n",
    "#"
   ],
   "metadata": {
    "collapsed": false,
    "pycharm": {
     "name": "#%%\n"
    }
   }
  },
  {
   "cell_type": "code",
   "execution_count": 8,
   "outputs": [],
   "source": [
    "for i in range(5):\n",
    "    for j in range(i):\n",
    "        name = 'difference_' + str(j+1)\n",
    "        peak1 = 'peak_' + str(j+1) + '_index'\n",
    "        peak2 = 'peak_' + str(j+2) + '_index'\n",
    "        dfs[i][name] = dfs[i][peak2] - dfs[i][peak1]\n",
    "\n",
    "\n",
    "\n",
    "# dfs[1]['difference'] = dfs[1]['peak_2_index'] - dfs[1]['peak_1_index']\n",
    "# print(dfs[1]['peak_2_index'])\n",
    "def scale_data(df):\n",
    "  for col in df.columns:\n",
    "    df[col] = absolute_maximum_scale(df[col])\n",
    "  return df\n",
    "\n",
    "\n",
    "def absolute_maximum_scale(series):\n",
    "    return series / series.max()\n",
    "\n",
    "# cols_for_norm = dfs[1][['peak_1_value','peak_2_value']].transpose()\n",
    "# cols_for_norm=scale_data(cols_for_norm).transpose()\n",
    "#\n",
    "# dfs[1]['peak_1_value']=cols_for_norm['peak_1_value']\n",
    "# dfs[1]['peak_2_value']=cols_for_norm['peak_2_value']"
   ],
   "metadata": {
    "collapsed": false,
    "pycharm": {
     "name": "#%%\n"
    }
   }
  },
  {
   "cell_type": "code",
   "execution_count": 9,
   "outputs": [
    {
     "name": "stdout",
     "output_type": "stream",
     "text": [
      "[ 0  0 10  0  2  0  0  2  2 13  2  0  0  0  9  0 23  0 25  8  2 25  8  8\n",
      "  2 11  2  2 23 11 11 31  2  2 25 11 23  0  0  0  0  2 27  8 12  0 19 18\n",
      "  7 18  9  0  2  0 17 28  8  0  0  0  0  0 23  9  0  0  0  0  0  0 16  0\n",
      " 16  9 17  0  2  2  0  0  6  6  6 14  1 14 14 14  4  1  1  6 20 26 20  6\n",
      " 28  2 28 28 28 28  6 21 15  6  4 30  6  4 24  1  1 22 22  5 22 28 28  3\n",
      " 28 28 28 28 29]\n"
     ]
    }
   ],
   "source": [
    "# new_df = dfs[1].loc[:, dfs[1].columns != 'sample']\n",
    "# new_df = dfs[1]['difference'].values.reshape(-1, 1)\n",
    "# new_df = dfs[1][['peak_1_index','difference_1']]\n",
    "# clustering = cluster.KMeans(n_clusters=32)\n",
    "# fitted_data = clustering.fit_predict(new_df)\n",
    "# dfs[1]['cluster_omer'] = fitted_data\n",
    "# dfs[1].to_csv('drug_auto_2_peaks.csv')\n",
    "\n",
    "new_df = dfs[2][['peak_1_index','difference_1', 'difference_2']]\n",
    "clustering = cluster.KMeans(n_clusters=32)\n",
    "fitted_data = clustering.fit_predict(new_df)\n",
    "dfs[2]['cluster_omer'] = fitted_data\n",
    "# dfs[2].to_csv('drug_auto_3_peaks.csv')\n"
   ],
   "metadata": {
    "collapsed": false,
    "pycharm": {
     "name": "#%%\n"
    }
   }
  },
  {
   "cell_type": "code",
   "execution_count": 10,
   "outputs": [],
   "source": [
    "# printing examples of the basic cluster\n",
    "# index = 0\n",
    "# for sample in dfs[1]['sample'].to_list():\n",
    "#     tic_front_path = sample[1:] + 'tic_front.csv'\n",
    "#     if fitted_data[index] == 8:\n",
    "#         if index < 550:\n",
    "#             find_peaks(tic_front_path, True)\n",
    "#             plt.show()\n",
    "#     index += 1"
   ],
   "metadata": {
    "collapsed": false,
    "pycharm": {
     "name": "#%%\n"
    }
   }
  },
  {
   "cell_type": "code",
   "execution_count": null,
   "outputs": [],
   "source": [
    "def plot_samples_from_same_cluster(df, cluster_number):\n",
    "    plots = 0\n",
    "    relevant_samples = df[df['cluster_omer'] == cluster_number]\n",
    "    print(\"number of samples in cluster \" + str(cluster_number) + \": \" + str(len(relevant_samples)))\n",
    "    for sample in relevant_samples['sample'].to_list():\n",
    "        tic_front_path = sample[1:] + 'tic_front.csv'\n",
    "        if plots < 7:\n",
    "            # find_peaks(tic_front_path, True)\n",
    "            data = pd.read_csv(tic_front_path, names=['x', 'y']).iloc[1:]\n",
    "            title_name = sample[1:].split('/')\n",
    "            title_ = \"cluster: \" + str(cluster_number) + \", sample: \" + title_name[2] + \"/\" + title_name[3]\n",
    "            data.plot(x='x', y='y', title=title_)\n",
    "            file_name = \"clusters_plot_omer/cluster_\" + str(cluster_number) + \"_graph_\" + str(plots) + \".png\"\n",
    "            # plt.savefig(file_name)\n",
    "            plt.show()\n",
    "        plots += 1\n",
    "\n",
    "# plot_samples_from_same_cluster(three_peaks_df, 18)\n",
    "\n",
    "# for i in range(32):\n",
    "#     plot_samples_from_same_cluster(two_peaks_df, i)\n"
   ],
   "metadata": {
    "collapsed": false,
    "pycharm": {
     "name": "#%%\n"
    }
   }
  },
  {
   "cell_type": "code",
   "execution_count": null,
   "outputs": [],
   "source": [
    "two_peaks_df = pd.read_csv('drug_auto_2_peaks.csv')\n",
    "three_peaks_df = pd.read_csv('drug_auto_3_peaks.csv')\n",
    "\n",
    "index_list = []\n",
    "for i in range(len(two_peaks_df)):\n",
    "    if i % 7 == 0:\n",
    "        index_list.append(i)\n",
    "#\n",
    "index_list = index_list[:50]\n",
    "\n",
    "matrix_df = two_peaks_df.iloc[index_list]\n"
   ],
   "metadata": {
    "collapsed": false,
    "pycharm": {
     "name": "#%%\n"
    }
   }
  },
  {
   "cell_type": "code",
   "execution_count": null,
   "outputs": [],
   "source": [
    "omer_cluster_matrix = []\n",
    "yaara_clusters = [13, 11, 2, 14, 14, 12, 2, 5, 14, 7, 15, 13, 2, 13, 7, 14, 2, 8, 13, 2, 9, 2, 15, 2,\n",
    "                  2, 16, 2, 14, 2, 13, 7, 15, 2, 13, 11, 10, 7, 7, 6, 17, 1, 1, 4, 1, 3, 2, 3, 1, 18, 19]\n",
    "yaara_cluster_matrix = []\n",
    "\n",
    "\n",
    "for i in range(50):\n",
    "    line = []\n",
    "    for j in range(50):\n",
    "        if yaara_clusters[i] == yaara_clusters[j]:\n",
    "            line.append(1)\n",
    "        else:\n",
    "            line.append(0)\n",
    "    yaara_cluster_matrix.append(line)\n",
    "\n",
    "\n",
    "\n",
    "for i in range(50):\n",
    "    line = []\n",
    "    for j in range(50):\n",
    "        if matrix_df['cluster_omer'][index_list[i]] == matrix_df['cluster_omer'][index_list[j]]:\n",
    "            line.append(1)\n",
    "        else:\n",
    "            line.append(0)\n",
    "    omer_cluster_matrix.append(line)\n",
    "\n",
    "\n",
    "samples_matrix = []\n",
    "\n",
    "for i in range(50):\n",
    "    line = []\n",
    "    for j in range(50):\n",
    "        line.append((matrix_df['sample'][index_list[i]], matrix_df['sample'][index_list[j]]))\n",
    "    samples_matrix.append(line)\n"
   ],
   "metadata": {
    "collapsed": false,
    "pycharm": {
     "name": "#%%\n"
    }
   }
  },
  {
   "cell_type": "code",
   "execution_count": null,
   "outputs": [],
   "source": [
    "np_omer_matrix = np.array(omer_cluster_matrix)\n",
    "\n",
    "np_yaara_matrix = np.array(yaara_cluster_matrix)\n",
    "\n",
    "tensor_method = np.stack([np_omer_matrix, np_yaara_matrix])\n",
    "\n",
    "tensor_sum = np.sum(tensor_method, axis=0)\n",
    "\n",
    "print(tensor_sum)\n",
    "\n",
    "# interesting_samples = np.where((tensor_sum == 1) | (tensor_sum == 2))[0]\n",
    "\n",
    "# print(interesting_samples)\n",
    "\n",
    "samples_np = np.array(samples_matrix)\n",
    "\n",
    "interesting_samples = samples_np[(tensor_sum == 1) | (tensor_sum == 2)]\n",
    "\n",
    "# print(interesting_samples.shape)\n",
    "\n",
    "# print(np.sum(tensor_sum == 2))"
   ],
   "metadata": {
    "collapsed": false,
    "pycharm": {
     "name": "#%%\n"
    }
   }
  }
 ],
 "metadata": {
  "kernelspec": {
   "display_name": "Python 3",
   "language": "python",
   "name": "python3"
  },
  "language_info": {
   "codemirror_mode": {
    "name": "ipython",
    "version": 2
   },
   "file_extension": ".py",
   "mimetype": "text/x-python",
   "name": "python",
   "nbconvert_exporter": "python",
   "pygments_lexer": "ipython2",
   "version": "2.7.6"
  }
 },
 "nbformat": 4,
 "nbformat_minor": 0
}